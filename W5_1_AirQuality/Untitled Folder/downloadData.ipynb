{
 "cells": [
  {
   "cell_type": "code",
   "execution_count": 1,
   "id": "d56c55ca",
   "metadata": {},
   "outputs": [],
   "source": [
    "import requests"
   ]
  },
  {
   "cell_type": "code",
   "execution_count": 3,
   "id": "c3072b83",
   "metadata": {},
   "outputs": [],
   "source": [
    "\n",
    "parameters = {'email': 'gerkentx@jmu.edu',\n",
    "            'key':  'ochreswift41',\n",
    "             'param':88101,\n",
    "              'bdate':20160101,\n",
    "              'edate':20160229,\n",
    "              'state':38,\n",
    "              'county':183\n",
    "             }\n",
    "\n",
    "#https://aqs.epa.gov/data/api/dailyData/byCounty?email=test@aqs.api&key=test&param=88101&bdate=20160101&edate=20160229&state=37&county=183\n",
    "\n",
    "r = requests.get('https://aqs.epa.gov/data/api/dailyData/byCounty', params=parameters)"
   ]
  },
  {
   "cell_type": "code",
   "execution_count": 12,
   "id": "8bac0325",
   "metadata": {},
   "outputs": [],
   "source": [
    "r=requests.get(\"https://aqs.epa.gov/data/api/dailyData/byCounty?email=gerkent@jmu.edu&key=ochreswift41&param=88101&bdate=20160101&edate=20160229&state=37&county=183\")"
   ]
  },
  {
   "cell_type": "code",
   "execution_count": 13,
   "id": "9e2bf4f1",
   "metadata": {},
   "outputs": [
    {
     "data": {
      "text/plain": [
       "<Response [400]>"
      ]
     },
     "execution_count": 13,
     "metadata": {},
     "output_type": "execute_result"
    }
   ],
   "source": [
    "r"
   ]
  },
  {
   "cell_type": "code",
   "execution_count": 11,
   "id": "f1a5ec1e",
   "metadata": {},
   "outputs": [
    {
     "data": {
      "text/plain": [
       "<Response [400]>"
      ]
     },
     "execution_count": 11,
     "metadata": {},
     "output_type": "execute_result"
    }
   ],
   "source": [
    "r"
   ]
  },
  {
   "cell_type": "code",
   "execution_count": 15,
   "id": "5b218983",
   "metadata": {},
   "outputs": [
    {
     "data": {
      "text/plain": [
       "<Response [200]>"
      ]
     },
     "execution_count": 15,
     "metadata": {},
     "output_type": "execute_result"
    }
   ],
   "source": [
    "parameters = {'email': 'gerkentx@jmu.edu',\n",
    "            'key':  'ochreswift41'\n",
    "             }\n",
    "requests.get(\"https://aqs.epa.gov/data/api/list/states?\", params = parameters)"
   ]
  },
  {
   "cell_type": "code",
   "execution_count": 20,
   "id": "4e383da1",
   "metadata": {},
   "outputs": [],
   "source": [
    "r=requests.get(\"https://aqs.epa.gov/data/api/list/states?email=gerkentx@jmu.edu&key=ochreswift41\")"
   ]
  },
  {
   "cell_type": "code",
   "execution_count": 27,
   "id": "2fd9814e",
   "metadata": {},
   "outputs": [
    {
     "data": {
      "text/plain": [
       "[{'code': '01', 'value_represented': 'Alabama'},\n",
       " {'code': '02', 'value_represented': 'Alaska'},\n",
       " {'code': '04', 'value_represented': 'Arizona'},\n",
       " {'code': '05', 'value_represented': 'Arkansas'},\n",
       " {'code': '06', 'value_represented': 'California'},\n",
       " {'code': '08', 'value_represented': 'Colorado'},\n",
       " {'code': '09', 'value_represented': 'Connecticut'},\n",
       " {'code': '10', 'value_represented': 'Delaware'},\n",
       " {'code': '11', 'value_represented': 'District Of Columbia'},\n",
       " {'code': '12', 'value_represented': 'Florida'},\n",
       " {'code': '13', 'value_represented': 'Georgia'},\n",
       " {'code': '15', 'value_represented': 'Hawaii'},\n",
       " {'code': '16', 'value_represented': 'Idaho'},\n",
       " {'code': '17', 'value_represented': 'Illinois'},\n",
       " {'code': '18', 'value_represented': 'Indiana'},\n",
       " {'code': '19', 'value_represented': 'Iowa'},\n",
       " {'code': '20', 'value_represented': 'Kansas'},\n",
       " {'code': '21', 'value_represented': 'Kentucky'},\n",
       " {'code': '22', 'value_represented': 'Louisiana'},\n",
       " {'code': '23', 'value_represented': 'Maine'},\n",
       " {'code': '24', 'value_represented': 'Maryland'},\n",
       " {'code': '25', 'value_represented': 'Massachusetts'},\n",
       " {'code': '26', 'value_represented': 'Michigan'},\n",
       " {'code': '27', 'value_represented': 'Minnesota'},\n",
       " {'code': '28', 'value_represented': 'Mississippi'},\n",
       " {'code': '29', 'value_represented': 'Missouri'},\n",
       " {'code': '30', 'value_represented': 'Montana'},\n",
       " {'code': '31', 'value_represented': 'Nebraska'},\n",
       " {'code': '32', 'value_represented': 'Nevada'},\n",
       " {'code': '33', 'value_represented': 'New Hampshire'},\n",
       " {'code': '34', 'value_represented': 'New Jersey'},\n",
       " {'code': '35', 'value_represented': 'New Mexico'},\n",
       " {'code': '36', 'value_represented': 'New York'},\n",
       " {'code': '37', 'value_represented': 'North Carolina'},\n",
       " {'code': '38', 'value_represented': 'North Dakota'},\n",
       " {'code': '39', 'value_represented': 'Ohio'},\n",
       " {'code': '40', 'value_represented': 'Oklahoma'},\n",
       " {'code': '41', 'value_represented': 'Oregon'},\n",
       " {'code': '42', 'value_represented': 'Pennsylvania'},\n",
       " {'code': '44', 'value_represented': 'Rhode Island'},\n",
       " {'code': '45', 'value_represented': 'South Carolina'},\n",
       " {'code': '46', 'value_represented': 'South Dakota'},\n",
       " {'code': '47', 'value_represented': 'Tennessee'},\n",
       " {'code': '48', 'value_represented': 'Texas'},\n",
       " {'code': '49', 'value_represented': 'Utah'},\n",
       " {'code': '50', 'value_represented': 'Vermont'},\n",
       " {'code': '51', 'value_represented': 'Virginia'},\n",
       " {'code': '53', 'value_represented': 'Washington'},\n",
       " {'code': '54', 'value_represented': 'West Virginia'},\n",
       " {'code': '55', 'value_represented': 'Wisconsin'},\n",
       " {'code': '56', 'value_represented': 'Wyoming'},\n",
       " {'code': '66', 'value_represented': 'Guam'},\n",
       " {'code': '72', 'value_represented': 'Puerto Rico'},\n",
       " {'code': '78', 'value_represented': 'Virgin Islands'},\n",
       " {'code': '80', 'value_represented': 'Country Of Mexico'},\n",
       " {'code': 'CC', 'value_represented': 'Canada'}]"
      ]
     },
     "execution_count": 27,
     "metadata": {},
     "output_type": "execute_result"
    }
   ],
   "source": [
    "r.json()['Data']"
   ]
  },
  {
   "cell_type": "code",
   "execution_count": 35,
   "id": "e497d49b",
   "metadata": {},
   "outputs": [
    {
     "data": {
      "text/plain": [
       "{'Header': [{'status': 'Success',\n",
       "   'request_time': '2024-02-15T14:30:05-05:00',\n",
       "   'url': 'https://aqs.epa.gov/data/api/list/countiesByState?email=gerkentx%40jmu.edu&key=ochreswift41&state=06',\n",
       "   'rows': 58}],\n",
       " 'Data': [{'code': '001', 'value_represented': 'Alameda'},\n",
       "  {'code': '003', 'value_represented': 'Alpine'},\n",
       "  {'code': '005', 'value_represented': 'Amador'},\n",
       "  {'code': '007', 'value_represented': 'Butte'},\n",
       "  {'code': '009', 'value_represented': 'Calaveras'},\n",
       "  {'code': '011', 'value_represented': 'Colusa'},\n",
       "  {'code': '013', 'value_represented': 'Contra Costa'},\n",
       "  {'code': '015', 'value_represented': 'Del Norte'},\n",
       "  {'code': '017', 'value_represented': 'El Dorado'},\n",
       "  {'code': '019', 'value_represented': 'Fresno'},\n",
       "  {'code': '021', 'value_represented': 'Glenn'},\n",
       "  {'code': '023', 'value_represented': 'Humboldt'},\n",
       "  {'code': '025', 'value_represented': 'Imperial'},\n",
       "  {'code': '027', 'value_represented': 'Inyo'},\n",
       "  {'code': '029', 'value_represented': 'Kern'},\n",
       "  {'code': '031', 'value_represented': 'Kings'},\n",
       "  {'code': '033', 'value_represented': 'Lake'},\n",
       "  {'code': '035', 'value_represented': 'Lassen'},\n",
       "  {'code': '037', 'value_represented': 'Los Angeles'},\n",
       "  {'code': '039', 'value_represented': 'Madera'},\n",
       "  {'code': '041', 'value_represented': 'Marin'},\n",
       "  {'code': '043', 'value_represented': 'Mariposa'},\n",
       "  {'code': '045', 'value_represented': 'Mendocino'},\n",
       "  {'code': '047', 'value_represented': 'Merced'},\n",
       "  {'code': '049', 'value_represented': 'Modoc'},\n",
       "  {'code': '051', 'value_represented': 'Mono'},\n",
       "  {'code': '053', 'value_represented': 'Monterey'},\n",
       "  {'code': '055', 'value_represented': 'Napa'},\n",
       "  {'code': '057', 'value_represented': 'Nevada'},\n",
       "  {'code': '059', 'value_represented': 'Orange'},\n",
       "  {'code': '061', 'value_represented': 'Placer'},\n",
       "  {'code': '063', 'value_represented': 'Plumas'},\n",
       "  {'code': '065', 'value_represented': 'Riverside'},\n",
       "  {'code': '067', 'value_represented': 'Sacramento'},\n",
       "  {'code': '069', 'value_represented': 'San Benito'},\n",
       "  {'code': '071', 'value_represented': 'San Bernardino'},\n",
       "  {'code': '073', 'value_represented': 'San Diego'},\n",
       "  {'code': '075', 'value_represented': 'San Francisco'},\n",
       "  {'code': '077', 'value_represented': 'San Joaquin'},\n",
       "  {'code': '079', 'value_represented': 'San Luis Obispo'},\n",
       "  {'code': '081', 'value_represented': 'San Mateo'},\n",
       "  {'code': '083', 'value_represented': 'Santa Barbara'},\n",
       "  {'code': '085', 'value_represented': 'Santa Clara'},\n",
       "  {'code': '087', 'value_represented': 'Santa Cruz'},\n",
       "  {'code': '089', 'value_represented': 'Shasta'},\n",
       "  {'code': '091', 'value_represented': 'Sierra'},\n",
       "  {'code': '093', 'value_represented': 'Siskiyou'},\n",
       "  {'code': '095', 'value_represented': 'Solano'},\n",
       "  {'code': '097', 'value_represented': 'Sonoma'},\n",
       "  {'code': '099', 'value_represented': 'Stanislaus'},\n",
       "  {'code': '101', 'value_represented': 'Sutter'},\n",
       "  {'code': '103', 'value_represented': 'Tehama'},\n",
       "  {'code': '105', 'value_represented': 'Trinity'},\n",
       "  {'code': '107', 'value_represented': 'Tulare'},\n",
       "  {'code': '109', 'value_represented': 'Tuolumne'},\n",
       "  {'code': '111', 'value_represented': 'Ventura'},\n",
       "  {'code': '113', 'value_represented': 'Yolo'},\n",
       "  {'code': '115', 'value_represented': 'Yuba'}]}"
      ]
     },
     "execution_count": 35,
     "metadata": {},
     "output_type": "execute_result"
    }
   ],
   "source": [
    "parameters  = parameters = {'email': 'gerkentx@jmu.edu',\n",
    "            'key':  'ochreswift41',\n",
    "             'state':\"06\"}\n",
    "r=requests.get(\"https://aqs.epa.gov/data/api/list/countiesByState\", params = parameters)\n",
    "r.json()"
   ]
  },
  {
   "cell_type": "code",
   "execution_count": 36,
   "id": "13ce8fca",
   "metadata": {},
   "outputs": [
    {
     "data": {
      "text/plain": [
       "{'Header': [{'status': 'Success',\n",
       "   'request_time': '2024-02-15T14:31:03-05:00',\n",
       "   'url': 'https://aqs.epa.gov/data/api/list/sitesByCounty?email=gerkentx%40jmu.edu&key=ochreswift41&state=06&county=037',\n",
       "   'rows': 96}],\n",
       " 'Data': [{'code': '0001', 'value_represented': None},\n",
       "  {'code': '0002', 'value_represented': 'Azusa'},\n",
       "  {'code': '0003', 'value_represented': None},\n",
       "  {'code': '0004', 'value_represented': None},\n",
       "  {'code': '0005', 'value_represented': None},\n",
       "  {'code': '0008', 'value_represented': None},\n",
       "  {'code': '0009', 'value_represented': None},\n",
       "  {'code': '0016', 'value_represented': 'Glendora'},\n",
       "  {'code': '0017', 'value_represented': None},\n",
       "  {'code': '0018', 'value_represented': 'El Monte'},\n",
       "  {'code': '0019', 'value_represented': None},\n",
       "  {'code': '0022', 'value_represented': None},\n",
       "  {'code': '0030', 'value_represented': 'SB25 trailer at Hollenbeck School'},\n",
       "  {'code': '0031', 'value_represented': 'Wilmington-N. Mahar Ave'},\n",
       "  {'code': '0102', 'value_represented': None},\n",
       "  {'code': '0103', 'value_represented': None},\n",
       "  {'code': '0113', 'value_represented': 'West Los Angeles'},\n",
       "  {'code': '0201', 'value_represented': 'Carson'},\n",
       "  {'code': '0202', 'value_represented': 'Commerce-Ayers Ave'},\n",
       "  {'code': '0203', 'value_represented': 'City of Industry-Volkswagon'},\n",
       "  {'code': '0204', 'value_represented': 'City of Industry-Whitco'},\n",
       "  {'code': '0205', 'value_represented': 'Commerce-AT&SF RR'},\n",
       "  {'code': '0206',\n",
       "   'value_represented': 'SITE IS LOCATED ONE HALF MILE EAST OF THE I-57/I-60 INTERCHANGE'},\n",
       "  {'code': '1001', 'value_represented': None},\n",
       "  {'code': '1002', 'value_represented': 'Burbank'},\n",
       "  {'code': '1003', 'value_represented': None},\n",
       "  {'code': '1004', 'value_represented': None},\n",
       "  {'code': '1101', 'value_represented': 'UNKNOWN COORDINATE LOCATION'},\n",
       "  {'code': '1102', 'value_represented': 'ON BUILDING'},\n",
       "  {'code': '1103', 'value_represented': 'Los Angeles-North Main Street'},\n",
       "  {'code': '1104', 'value_represented': None},\n",
       "  {'code': '1105', 'value_represented': 'West Los Angeles-Robertson Blvd'},\n",
       "  {'code': '1106', 'value_represented': None},\n",
       "  {'code': '1201', 'value_represented': 'Reseda'},\n",
       "  {'code': '1301', 'value_represented': 'Lynwood'},\n",
       "  {'code': '1302', 'value_represented': 'Compton'},\n",
       "  {'code': '1401', 'value_represented': None},\n",
       "  {'code': '1402', 'value_represented': 'Van Nuys Airport'},\n",
       "  {'code': '1403', 'value_represented': 'Uddelholm (Trojan Battery)'},\n",
       "  {'code': '1404', 'value_represented': 'Closet World (Quemetco)'},\n",
       "  {'code': '1405', 'value_represented': 'Rehrig (Exide)'},\n",
       "  {'code': '1406', 'value_represented': 'ATSF (Exide)'},\n",
       "  {'code': '1501', 'value_represented': None},\n",
       "  {'code': '1601', 'value_represented': None},\n",
       "  {'code': '1602', 'value_represented': 'Pico Rivera #2'},\n",
       "  {'code': '1701', 'value_represented': 'Pomona'},\n",
       "  {'code': '1801', 'value_represented': None},\n",
       "  {'code': '1901', 'value_represented': None},\n",
       "  {'code': '1902', 'value_represented': None},\n",
       "  {'code': '2001', 'value_represented': None},\n",
       "  {'code': '2002', 'value_represented': None},\n",
       "  {'code': '2005', 'value_represented': 'Pasadena'},\n",
       "  {'code': '2101', 'value_represented': None},\n",
       "  {'code': '2103', 'value_represented': None},\n",
       "  {'code': '2201', 'value_represented': None},\n",
       "  {'code': '2301', 'value_represented': None},\n",
       "  {'code': '2401', 'value_represented': None},\n",
       "  {'code': '3001', 'value_represented': None},\n",
       "  {'code': '3002', 'value_represented': None},\n",
       "  {'code': '3101', 'value_represented': None},\n",
       "  {'code': '4001', 'value_represented': None},\n",
       "  {'code': '4002', 'value_represented': 'Long Beach (North)'},\n",
       "  {'code': '4004', 'value_represented': 'Long Beach (South)'},\n",
       "  {'code': '4006', 'value_represented': 'Long Beach (Hudson)'},\n",
       "  {'code': '4008', 'value_represented': 'Long Beach-Route 710 Near Road'},\n",
       "  {'code': '4009', 'value_represented': 'Signal Hill (LBSH)'},\n",
       "  {'code': '4010', 'value_represented': 'North Hollywood (NOHO)'},\n",
       "  {'code': '4101', 'value_represented': 'Santa Clarita-Honby St.'},\n",
       "  {'code': '5001', 'value_represented': 'Hawthorne'},\n",
       "  {'code': '5002', 'value_represented': None},\n",
       "  {'code': '5005', 'value_represented': 'LAX Hastings'},\n",
       "  {'code': '5501', 'value_represented': 'Felton Elementary School'},\n",
       "  {'code': '5502', 'value_represented': 'Santa Anita Christian Academy'},\n",
       "  {'code': '5503', 'value_represented': 'Soto Street Elementary School'},\n",
       "  {'code': '6001', 'value_represented': None},\n",
       "  {'code': '6002', 'value_represented': None},\n",
       "  {'code': '6012', 'value_represented': 'Santa Clarita'},\n",
       "  {'code': '7001', 'value_represented': 'Lancaster-N. Beech St.'},\n",
       "  {'code': '7002', 'value_represented': None},\n",
       "  {'code': '8001', 'value_represented': None},\n",
       "  {'code': '8002', 'value_represented': None},\n",
       "  {'code': '9000', 'value_represented': 'Wrightwood'},\n",
       "  {'code': '9001', 'value_represented': None},\n",
       "  {'code': '9002', 'value_represented': 'Lancaster-Ponderosa St.'},\n",
       "  {'code': '9003',\n",
       "   'value_represented': 'SAN DIMAS (US FORESTRY) EXPERIMENTAL FOREST'},\n",
       "  {'code': '9004',\n",
       "   'value_represented': 'AIR RESOURCES BOARD BUILDING, EL MONTE'},\n",
       "  {'code': '9005',\n",
       "   'value_represented': 'EL MONTE AIRPORT - PROFILER FOR SCOS97'},\n",
       "  {'code': '9006', 'value_represented': 'Palmdale-East Ave S'},\n",
       "  {'code': '9033', 'value_represented': 'Lancaster-Division Street'},\n",
       "  {'code': '9034', 'value_represented': 'Lebec'},\n",
       "  {'code': '9035', 'value_represented': 'Lancaster - Fairgrounds'},\n",
       "  {'code': '9401', 'value_represented': None},\n",
       "  {'code': '9403', 'value_represented': None},\n",
       "  {'code': '9405', 'value_represented': None},\n",
       "  {'code': '9407', 'value_represented': None},\n",
       "  {'code': '9934', 'value_represented': 'San Gabriel Wilderness'}]}"
      ]
     },
     "execution_count": 36,
     "metadata": {},
     "output_type": "execute_result"
    }
   ],
   "source": [
    "parameters  = parameters = {'email': 'gerkentx@jmu.edu',\n",
    "            'key':  'ochreswift41',\n",
    "             'state':\"06\",\n",
    "             'county':\"037\"              }\n",
    "r=requests.get(\"https://aqs.epa.gov/data/api/list/sitesByCounty\", params = parameters)\n",
    "r.json()"
   ]
  },
  {
   "cell_type": "code",
   "execution_count": 37,
   "id": "d0700251",
   "metadata": {},
   "outputs": [
    {
     "data": {
      "text/plain": [
       "{'Header': [{'status': 'Success',\n",
       "   'request_time': '2024-02-15T14:34:52-05:00',\n",
       "   'url': 'https://aqs.epa.gov/data/api/list/parametersByClass?email=gerkentx%40jmu.edu&key=ochreswift41&pc=CRITERIA',\n",
       "   'rows': 8}],\n",
       " 'Data': [{'code': '14129', 'value_represented': 'Lead (TSP) LC'},\n",
       "  {'code': '42101', 'value_represented': 'Carbon monoxide'},\n",
       "  {'code': '42401', 'value_represented': 'Sulfur dioxide'},\n",
       "  {'code': '42602', 'value_represented': 'Nitrogen dioxide (NO2)'},\n",
       "  {'code': '44201', 'value_represented': 'Ozone'},\n",
       "  {'code': '81102', 'value_represented': 'PM10 Total 0-10um STP'},\n",
       "  {'code': '85129', 'value_represented': 'Lead PM10 LC FRM/FEM'},\n",
       "  {'code': '88101', 'value_represented': 'PM2.5 - Local Conditions'}]}"
      ]
     },
     "execution_count": 37,
     "metadata": {},
     "output_type": "execute_result"
    }
   ],
   "source": [
    "#https://aqs.epa.gov/data/api/list/parametersByClass?email=test@aqs.api&key=test&pc=CRITERIA\n",
    "parameters  = parameters = {'email': 'gerkentx@jmu.edu',\n",
    "            'key':  'ochreswift41',\n",
    "             'pc':\"CRITERIA\",            }\n",
    "r=requests.get(\"https://aqs.epa.gov/data/api/list/parametersByClass\", params = parameters)\n",
    "r.json()"
   ]
  },
  {
   "cell_type": "code",
   "execution_count": null,
   "id": "05a76ad6",
   "metadata": {},
   "outputs": [],
   "source": [
    "#https://aqs.epa.gov/data/api/monitors/byCounty?email=test@aqs.api&key=test&param=42401&bdate=20150501&edate=20150502&state=15&county=001\n",
    "    \n",
    "#https://aqs.epa.gov/data/api/list/parametersByClass?email=test@aqs.api&key=test&pc=CRITERIA\n",
    "parameters  = parameters = {'email': 'gerkentx@jmu.edu',\n",
    "            'key':  'ochreswift41',\n",
    "            'bdate': 20150101,\n",
    "            'edate': 20151231,\n",
    "            'state':\"06\",\n",
    "             \"county\":\"037\",               \n",
    "            'param':\"44201,81102,88101\"            }\n",
    "            \n",
    "r=requests.get(\"https://aqs.epa.gov/data/api/sampleData/byCounty\", params = parameters)\n",
    "r.json()"
   ]
  },
  {
   "cell_type": "code",
   "execution_count": null,
   "id": "56576eb8",
   "metadata": {},
   "outputs": [],
   "source": [
    "import pandas as pd\n",
    "import json \n",
    "from pandas.io.json import json_normalize\n",
    "data = r.json()\n",
    "df = json_normalize(data['Data'])"
   ]
  },
  {
   "cell_type": "code",
   "execution_count": 56,
   "id": "318b9939",
   "metadata": {},
   "outputs": [
    {
     "data": {
      "text/plain": [
       "9033    96\n",
       "0016    96\n",
       "1103    50\n",
       "2005    48\n",
       "1701    48\n",
       "6012    48\n",
       "1602    48\n",
       "0113    48\n",
       "1302    48\n",
       "1201    48\n",
       "5005    48\n",
       "4006    48\n",
       "0002    39\n",
       "4008     2\n",
       "4004     2\n",
       "4002     2\n",
       "Name: site_number, dtype: int64"
      ]
     },
     "execution_count": 56,
     "metadata": {},
     "output_type": "execute_result"
    }
   ],
   "source": [
    "df['site_number'].value_counts()"
   ]
  },
  {
   "cell_type": "code",
   "execution_count": null,
   "id": "ffa38ba3",
   "metadata": {},
   "outputs": [],
   "source": [
    "# To Do\n",
    "# Query 1 year of daily data \n",
    "# LA Stations \n",
    "# "
   ]
  }
 ],
 "metadata": {
  "interpreter": {
   "hash": "aee8b7b246df8f9039afb4144a1f6fd8d2ca17a180786b69acc140d282b71a49"
  },
  "kernelspec": {
   "display_name": "Python 3.10.4 64-bit",
   "language": "python",
   "name": "python3"
  },
  "language_info": {
   "codemirror_mode": {
    "name": "ipython",
    "version": 3
   },
   "file_extension": ".py",
   "mimetype": "text/x-python",
   "name": "python",
   "nbconvert_exporter": "python",
   "pygments_lexer": "ipython3",
   "version": "3.10.4"
  }
 },
 "nbformat": 4,
 "nbformat_minor": 5
}
